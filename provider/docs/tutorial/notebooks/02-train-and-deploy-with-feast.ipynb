{
  "cells": [
    {
      "cell_type": "markdown",
      "source": [
        "Copyright (c) Microsoft Corporation. Licensed under the MIT license.\n",
        "\n",
        "# Train and Deploy a model using Feast\n",
        "\n",
        "In this notebook we show how to:\n",
        "\n",
        "1. access a feature store \n",
        "1. discover features in the feature store\n",
        "1. train a model using the offline store (using the feast function `get_historical_features()`)\n",
        "1. use the feast `materialize()` function to push features from the offline store to an online store (redis)\n",
        "1. Deploy the model to an Azure ML endpoint where the features are consumed from the online store (feast function `get_online_features()`)"
      ],
      "metadata": {
        "nteract": {
          "transient": {
            "deleting": false
          }
        }
      }
    },
    {
      "cell_type": "markdown",
      "source": [
        "## Connect to Feature store\n",
        "\n",
        "Below we create a Feast repository config, which accesses the registry.db file and also provides the credentials to the offline and online storage.\n",
        "\n",
        "__NOTE: You will need to provide the registry location on your blob storage__"
      ],
      "metadata": {}
    },
    {
      "cell_type": "code",
      "execution_count": null,
      "source": [
        "import os\n",
        "from feast import FeatureStore, RepoConfig\n",
        "from feast.registry import RegistryConfig\n",
        "from feast_azure_provider.mssqlserver import MsSqlServerOfflineStoreConfig\n",
        "from feast.infra.online_stores.redis import RedisOnlineStoreConfig\n",
        "from azureml.core import Workspace\n",
        "\n",
        "ws = Workspace.from_config()\n",
        "keyvault = ws.get_default_keyvault()\n",
        "\n",
        "# update this to your location on blob\n",
        "feast_registry_path = \"https://<ACCOUNT_NAME>.blob.core.windows.net/<CONTAINER_NAME>/<PATH>/registry.db\"\n",
        "\n",
        "sql_conn_str = keyvault.get_secret('FEAST-SQL-CONN')\n",
        "redis_conn_str = keyvault.get_secret('FEAST-REDIS-CONN')\n",
        "orders_table = \"orders\"\n",
        "driver_hourly_table = \"driver_hourly\"\n",
        "customer_profile_table = \"customer_profile\"\n",
        "\n",
        "reg_config = RegistryConfig(\n",
        "    registry_store_type=\"feast_azure_provider.registry_store.AzBlobRegistryStore\",\n",
        "    path=feast_registry_path,\n",
        ")\n",
        "\n",
        "repo_cfg = RepoConfig(\n",
        "        project = \"production\",\n",
        "        provider = \"feast_azure_provider.azure_provider.AzureProvider\",\n",
        "        registry = reg_config,\n",
        "        offline_store = MsSqlServerOfflineStoreConfig(connection_string=sql_conn_str),\n",
        "        online_store = RedisOnlineStoreConfig(connection_string=redis_conn_str)\n",
        "    )\n",
        "\n",
        "store = FeatureStore(config=repo_cfg)\n"
      ],
      "outputs": [],
      "metadata": {
        "collapsed": true,
        "jupyter": {
          "source_hidden": false,
          "outputs_hidden": false
        },
        "nteract": {
          "transient": {
            "deleting": false
          }
        },
        "gather": {
          "logged": 1627130565121
        }
      }
    },
    {
      "cell_type": "markdown",
      "source": [
        "### List the feature views\n",
        "\n",
        "Below lists the registered feature views."
      ],
      "metadata": {}
    },
    {
      "cell_type": "code",
      "execution_count": null,
      "source": [
        "store.list_feature_views()"
      ],
      "outputs": [],
      "metadata": {}
    },
    {
      "cell_type": "markdown",
      "source": [
        "## Load features into a pandas dataframe\n",
        "\n",
        "Below you load the features from the feature store into a pandas data frame."
      ],
      "metadata": {
        "collapsed": true,
        "jupyter": {
          "source_hidden": false,
          "outputs_hidden": false
        },
        "nteract": {
          "transient": {
            "deleting": false
          }
        },
        "gather": {
          "logged": 1627130724228
        }
      }
    },
    {
      "cell_type": "code",
      "execution_count": null,
      "source": [
        "sql_job = store.get_historical_features(\n",
        "    entity_df=\"SELECT * FROM orders\",\n",
        "    features=[\n",
        "        \"driver_stats:conv_rate\",\n",
        "        \"driver_stats:acc_rate\",\n",
        "        \"driver_stats:avg_daily_trips\",\n",
        "        \"customer_profile:current_balance\",\n",
        "        \"customer_profile:avg_passenger_count\",\n",
        "        \"customer_profile:lifetime_trip_count\",\n",
        "    ],\n",
        ")\n",
        "\n",
        "training_df = sql_job.to_df()\n",
        "training_df.head()"
      ],
      "outputs": [],
      "metadata": {
        "collapsed": true,
        "jupyter": {
          "source_hidden": false,
          "outputs_hidden": false
        },
        "nteract": {
          "transient": {
            "deleting": false
          }
        },
        "gather": {
          "logged": 1626933777036
        }
      }
    },
    {
      "cell_type": "markdown",
      "source": [
        "## Train a model and capture metrics with MLFlow"
      ],
      "metadata": {
        "nteract": {
          "transient": {
            "deleting": false
          }
        }
      }
    },
    {
      "cell_type": "code",
      "execution_count": null,
      "source": [
        "import mlflow\n",
        "import numpy as np\n",
        "from sklearn.model_selection import train_test_split\n",
        "from sklearn.ensemble import RandomForestClassifier\n",
        "from azureml.core import Workspace\n",
        "\n",
        "# connect to your workspace\n",
        "ws = Workspace.from_config()\n",
        "\n",
        "# create experiment and start logging to a new run in the experiment\n",
        "experiment_name = \"order_model\"\n",
        "\n",
        "# set up MLflow to track the metrics\n",
        "mlflow.set_tracking_uri(ws.get_mlflow_tracking_uri())\n",
        "mlflow.set_experiment(experiment_name)\n",
        "mlflow.sklearn.autolog()\n",
        "\n",
        "training_df = training_df.dropna()\n",
        "X = training_df[['conv_rate', 'acc_rate', 'avg_daily_trips', \n",
        "        'current_balance', 'avg_passenger_count','lifetime_trip_count' ]].dropna()\n",
        "y = training_df['order_is_success']\n",
        "\n",
        "X_train, X_test, y_train, y_test = train_test_split(X, y, test_size=0.33, random_state=42)\n",
        "clf = RandomForestClassifier(n_estimators=10)\n",
        "\n",
        "# train the model\n",
        "with mlflow.start_run() as run:\n",
        "    clf.fit(X_train, y_train)"
      ],
      "outputs": [],
      "metadata": {}
    },
    {
      "cell_type": "markdown",
      "source": [
        "## Prepare for deployment\n",
        "\n",
        "### Register model and the feature registry "
      ],
      "metadata": {}
    },
    {
      "cell_type": "code",
      "execution_count": null,
      "source": [
        "# register the model\n",
        "model_uri = \"runs:/{}/model\".format(run.info.run_id)\n",
        "model = mlflow.register_model(model_uri, \"order_model\")"
      ],
      "outputs": [],
      "metadata": {}
    },
    {
      "cell_type": "markdown",
      "source": [
        "### `materialize()` data into the online store (redis)"
      ],
      "metadata": {}
    },
    {
      "cell_type": "code",
      "execution_count": null,
      "source": [
        "from datetime import datetime, timedelta\n",
        "\n",
        "end_date = datetime.now()\n",
        "start_date = end_date - timedelta(days=365)\n",
        "store.materialize(start_date=start_date, end_date=end_date)"
      ],
      "outputs": [],
      "metadata": {}
    },
    {
      "cell_type": "markdown",
      "source": [
        "## Set up deployment configuration\n",
        "\n",
        "__Note: You will need to set up a service principal (SP) and add that SP to your blob storage account as a *Storage Blob Data Contributor* role to authenticate to the storage containing the feast registry file.__\n",
        "\n",
        "Once you have set up the SP, populate the `AZURE_CLIENT_ID`, `AZURE_TENANT_ID`, `AZURE_CLIENT_SECRET` environment variables below."
      ],
      "metadata": {}
    },
    {
      "cell_type": "code",
      "execution_count": null,
      "source": [
        "from azureml.core.environment import Environment\n",
        "from azureml.core.webservice import AciWebservice\n",
        "from azureml.core import Workspace\n",
        "\n",
        "ws = Workspace.from_config()\n",
        "keyvault = ws.get_default_keyvault()\n",
        "\n",
        "# create deployment config i.e. compute resources\n",
        "aciconfig = AciWebservice.deploy_configuration(\n",
        "    cpu_cores=1,\n",
        "    memory_gb=1,\n",
        "    description=\"orders service using feast\",\n",
        ")\n",
        "\n",
        "# get registered environment\n",
        "env = Environment.from_conda_specification(\"feast-env\", \"model_service_env.yml\")\n",
        "\n",
        "# again ensure that the scoring environment has access to the registry file\n",
        "env.environment_variables = {\n",
        "    \"FEAST_SQL_CONN\": sql_conn_str,\n",
        "    \"FEAST_REDIS_CONN\": redis_conn_str,\n",
        "    \"FEAST_REGISTRY_BLOB\": feast_registry_path,\n",
        "    \"AZURE_CLIENT_ID\": \"\",\n",
        "    \"AZURE_TENANT_ID\": \"\",\n",
        "    \"AZURE_CLIENT_SECRET\": \"\"\n",
        "}"
      ],
      "outputs": [],
      "metadata": {}
    },
    {
      "cell_type": "markdown",
      "source": [
        "## Deploy model\n",
        "\n",
        "Next, you deploy the model to Azure Container Instance. Please note that this may take approximately 10 minutes."
      ],
      "metadata": {}
    },
    {
      "cell_type": "code",
      "execution_count": null,
      "source": [
        "import uuid\n",
        "from azureml.core.model import InferenceConfig\n",
        "from azureml.core.environment import Environment\n",
        "from azureml.core.model import Model\n",
        "\n",
        "# get the registered model\n",
        "model = Model(ws, \"order_model\")\n",
        "\n",
        "# create an inference config i.e. the scoring script and environment\n",
        "inference_config = InferenceConfig(\n",
        "    entry_script=\"score.py\", \n",
        "    environment=env, \n",
        "    source_directory=\"src\"\n",
        ")\n",
        "\n",
        "# deploy the service\n",
        "service_name = \"orders-service\" + str(uuid.uuid4())[:4]\n",
        "service = Model.deploy(\n",
        "    workspace=ws,\n",
        "    name=service_name,\n",
        "    models=[model],\n",
        "    inference_config=inference_config,\n",
        "    deployment_config=aciconfig,\n",
        ")\n",
        "\n",
        "service.wait_for_deployment(show_output=True)"
      ],
      "outputs": [],
      "metadata": {}
    },
    {
      "cell_type": "markdown",
      "source": [
        "## Test service\n",
        "\n",
        "Below you test the service. The first score takes a while as the feast registry file is downloaded from blob. Subsequent runs will be faster as feast uses a local cache for the registry."
      ],
      "metadata": {}
    },
    {
      "cell_type": "code",
      "execution_count": null,
      "source": [
        "import json\n",
        "\n",
        "input_payload = json.dumps({\"driver\":50521, \"customer_id\":20265})\n",
        "\n",
        "service.run(input_data=input_payload)"
      ],
      "outputs": [],
      "metadata": {}
    }
  ],
  "metadata": {
    "kernelspec": {
      "name": "python3",
      "display_name": "Python 3.8.11 64-bit ('feast-test': conda)"
    },
    "language_info": {
      "name": "python",
      "version": "3.8.11",
      "mimetype": "text/x-python",
      "codemirror_mode": {
        "name": "ipython",
        "version": 3
      },
      "pygments_lexer": "ipython3",
      "nbconvert_exporter": "python",
      "file_extension": ".py"
    },
    "kernel_info": {
      "name": "newenv"
    },
    "nteract": {
      "version": "nteract-front-end@1.0.0"
    },
    "microsoft": {
      "host": {
        "AzureML": {
          "notebookHasBeenCompleted": true
        }
      }
    },
    "interpreter": {
      "hash": "613d966a601f3cb09e011da323334ad47ef40156c92ff5801f125852831662b0"
    }
  },
  "nbformat": 4,
  "nbformat_minor": 2
}