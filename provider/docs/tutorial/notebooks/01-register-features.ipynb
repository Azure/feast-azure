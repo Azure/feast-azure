{
 "cells": [
  {
   "cell_type": "markdown",
   "source": [
    "Copyright (c) Microsoft Corporation.\n",
    "Licensed under the MIT license.\n",
    "\n",
    "# Feast Azure Provider Tutorial: Register Features\n",
    "\n",
    "In this notebook you will connect to your feature store and register features into a central repository hosted on Azure Blob Storage. It should be noted that best practice for registering features would be through a CI/CD process e.g. GitHub Actions, or Azure DevOps.\n",
    "\n",
    "## Configure Feature Repo\n",
    "\n",
    "The cell below connects to your feature store. The `registry_blob_url` should point to the location on blob where you want your feature repsository to be stored."
   ],
   "metadata": {}
  },
  {
   "cell_type": "code",
   "execution_count": null,
   "source": [
    "from feast import FeatureStore, RepoConfig\n",
    "from feast.registry import RegistryConfig\n",
    "from feast_azure_provider.mssqlserver import MsSqlServerOfflineStoreConfig\n",
    "from feast.infra.online_stores.redis import RedisOnlineStoreConfig\n",
    "from azureml.core import Workspace\n",
    "\n",
    "# update this to your location on blob\n",
    "registry_blob_url = \"https://<ACCOUNT_NAME>.blob.core.windows.net/<CONTAINER>/<PATH>/registry.db\"\n",
    "\n",
    "# access key vault to get secrets\n",
    "ws = Workspace.from_config()\n",
    "kv = ws.get_default_keyvault()\n",
    "\n",
    "# update with your connection string\n",
    "offline_conn_str = kv.get_secret(\"FEAST-SQL-CONN\")\n",
    "online_conn_str = kv.get_secret(\"FEAST-REDIS-CONN\")\n",
    "\n",
    "# set RegistryConfig\n",
    "reg_config = RegistryConfig(\n",
    "    registry_store_type=\"feast_azure_provider.registry_store.AzBlobRegistryStore\",\n",
    "    path=registry_blob_url,\n",
    ")\n",
    "\n",
    "# set RepoConfig\n",
    "repo_cfg = RepoConfig(\n",
    "    registry=reg_config,\n",
    "    project=\"production\",\n",
    "    provider=\"feast_azure_provider.azure_provider.AzureProvider\",\n",
    "    offline_store=MsSqlServerOfflineStoreConfig(connection_string=offline_conn_str),\n",
    "    online_store=RedisOnlineStoreConfig(connection_string=online_conn_str),\n",
    ")\n",
    "\n",
    "# connect to feature store\n",
    "store = FeatureStore(config=repo_cfg)"
   ],
   "outputs": [],
   "metadata": {}
  },
  {
   "cell_type": "markdown",
   "source": [
    "## Define the data source (offline store)\n",
    "\n",
    "The data source refers to raw underlying data (a table in Azure SQL DB or Synapse SQL). Feast uses a time-series data model to represent data. This data model is used to interpret feature data in data sources in order to build training datasets or when materializing features into an online store."
   ],
   "metadata": {}
  },
  {
   "cell_type": "code",
   "execution_count": null,
   "source": [
    "from feast_azure_provider.mssqlserver_source import MsSqlServerSource\n",
    "\n",
    "orders_table = \"orders\"\n",
    "driver_hourly_table = \"driver_hourly\"\n",
    "customer_profile_table = \"customer_profile\"\n",
    "\n",
    "driver_source = MsSqlServerSource(\n",
    "    table_ref=driver_hourly_table,\n",
    "    event_timestamp_column=\"datetime\",\n",
    "    created_timestamp_column=\"created\",\n",
    ")\n",
    "\n",
    "customer_source = MsSqlServerSource(\n",
    "    table_ref=customer_profile_table,\n",
    "    event_timestamp_column=\"datetime\",\n",
    "    created_timestamp_column=\"\",\n",
    ")"
   ],
   "outputs": [],
   "metadata": {}
  },
  {
   "cell_type": "markdown",
   "source": [
    "## Define Feature Views\n",
    "\n",
    "A feature view is an object that represents a logical group of time-series feature data as it is found in a data source. Feature views consist of one or more entities, features, and a data source. Feature views allow Feast to model your existing feature data in a consistent way in both an offline (training) and online (serving) environment.\n",
    "\n",
    "Feature views are used during:\n",
    "\n",
    "- The generation of training datasets by querying the data source of feature views in order to find historical feature values. A single training dataset may consist of features from multiple feature views. \n",
    "- Loading of feature values into an online store. Feature views determine the storage schema in the online store.\n",
    "- Retrieval of features from the online store. Feature views provide the schema definition to Feast in order to look up features from the online store.\n",
    "\n",
    "__NOTE: Feast does not generate feature values. It acts as the ingestion and serving system. The data sources described within feature views should reference feature values in their already computed form.__"
   ],
   "metadata": {}
  },
  {
   "cell_type": "code",
   "execution_count": null,
   "source": [
    "from feast import Feature, FeatureView, ValueType\n",
    "from datetime import timedelta\n",
    "\n",
    "driver_fv = FeatureView(\n",
    "    name=\"driver_stats\",\n",
    "    entities=[\"driver\"],\n",
    "    features=[\n",
    "        Feature(name=\"conv_rate\", dtype=ValueType.FLOAT),\n",
    "        Feature(name=\"acc_rate\", dtype=ValueType.FLOAT),\n",
    "        Feature(name=\"avg_daily_trips\", dtype=ValueType.INT32),\n",
    "    ],\n",
    "    batch_source=driver_source,\n",
    "    ttl=timedelta(hours=2),\n",
    ")\n",
    "\n",
    "customer_fv = FeatureView(\n",
    "    name=\"customer_profile\",\n",
    "    entities=[\"customer_id\"],\n",
    "    features=[\n",
    "        Feature(name=\"current_balance\", dtype=ValueType.FLOAT),\n",
    "        Feature(name=\"avg_passenger_count\", dtype=ValueType.FLOAT),\n",
    "        Feature(name=\"lifetime_trip_count\", dtype=ValueType.INT32),\n",
    "    ],\n",
    "    batch_source=customer_source,\n",
    "    ttl=timedelta(days=2),\n",
    ")"
   ],
   "outputs": [],
   "metadata": {}
  },
  {
   "cell_type": "markdown",
   "source": [
    "# Define entities\n",
    "\n",
    "An entity is a collection of semantically related features. Users define entities to map to the domain of their use case. For example, a ride-hailing service could have customers and drivers as their entities, which group related features that correspond to these customers and drivers.\n",
    "\n",
    "Entities are defined as part of feature views. Entities are used to identify the primary key on which feature values should be stored and retrieved. These keys are used during the lookup of feature values from the online store and the join process in point-in-time joins. It is possible to define composite entities (more than one entity object) in a feature view.\n",
    "Entities should be reused across feature views.\n",
    "\n",
    "## Entity key\n",
    "\n",
    "A related concept is an entity key. These are one or more entity values that uniquely describe a feature view record. In the case of an entity (like a driver) that only has a single entity field, the entity is an entity key. However, it is also possible for an entity key to consist of multiple entity values. For example, a feature view with the composite entity of (customer, country) might have an entity key of (1001, 5).\n",
    "\n",
    "Entity keys act as primary keys. They are used during the lookup of features from the online store, and they are also used to match feature rows across feature views during point-in-time joins."
   ],
   "metadata": {}
  },
  {
   "cell_type": "code",
   "execution_count": null,
   "source": [
    "from feast import Entity\n",
    "driver = Entity(name=\"driver\", join_key=\"driver_id\", value_type=ValueType.INT64)\n",
    "customer = Entity(name=\"customer_id\", value_type=ValueType.INT64)"
   ],
   "outputs": [],
   "metadata": {}
  },
  {
   "cell_type": "markdown",
   "source": [
    "## Feast `apply()`\n",
    "\n",
    "Feast `apply` will:\n",
    "\n",
    "1. Feast will scan Python files in your feature repository and find all Feast object definitions, such as feature views, entities, and data sources.\n",
    "1. Feast will validate your feature definitions\n",
    "1. Feast will sync the metadata about Feast objects to the registry. If a registry does not exist, then it will be instantiated. The standard registry is a simple protobuf binary file that is stored on Azure Blob Storage.\n",
    "1. Feast CLI will create all necessary feature store infrastructure. The exact infrastructure that is deployed or configured depends on the provider configuration that you have set in feature_store.yaml."
   ],
   "metadata": {}
  },
  {
   "cell_type": "code",
   "execution_count": null,
   "source": [
    "store.apply([driver, driver_fv, customer, customer_fv])"
   ],
   "outputs": [],
   "metadata": {}
  }
 ],
 "metadata": {
  "orig_nbformat": 4,
  "language_info": {
   "name": "python",
   "version": "3.8.11",
   "mimetype": "text/x-python",
   "codemirror_mode": {
    "name": "ipython",
    "version": 3
   },
   "pygments_lexer": "ipython3",
   "nbconvert_exporter": "python",
   "file_extension": ".py"
  },
  "kernelspec": {
   "name": "python3",
   "display_name": "Python 3.8.11 64-bit ('feast-dev': conda)"
  },
  "interpreter": {
   "hash": "1f420f8439dfed2bd66fe971ededeecdddcec354e785e62812183e5ad86a193f"
  }
 },
 "nbformat": 4,
 "nbformat_minor": 2
}