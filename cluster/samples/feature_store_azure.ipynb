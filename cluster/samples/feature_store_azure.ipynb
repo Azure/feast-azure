{
  "cells": [
    {
      "cell_type": "markdown",
      "metadata": {},
      "source": [
        "# Ride Hailing Example"
      ]
    },
    {
      "cell_type": "markdown",
      "metadata": {
        "nteract": {
          "transient": {
            "deleting": false
          }
        }
      },
      "source": [
        "![chart](https://feaststore.blob.core.windows.net/feastjar/FeastArchitectureNew.png)"
      ]
    },
    {
      "cell_type": "code",
      "execution_count": 1,
      "metadata": {
        "collapsed": true,
        "jupyter": {
          "outputs_hidden": false,
          "source_hidden": false
        },
        "nteract": {
          "transient": {
            "deleting": false
          }
        }
      },
      "outputs": [],
      "source": [
        "import io\n",
        "import json\n",
        "import os\n",
        "from datetime import datetime\n",
        "from urllib.parse import urlparse\n",
        "\n",
        "import avro.schema\n",
        "import feast_spark\n",
        "import numpy as np\n",
        "import pandas as pd\n",
        "import pyarrow.parquet as pq\n",
        "import pytz\n",
        "from avro.io import BinaryEncoder, DatumWriter\n",
        "from azure.identity import ClientSecretCredential, DefaultAzureCredential\n",
        "from azure.storage.filedatalake import DataLakeServiceClient\n",
        "from confluent_kafka import Producer\n",
        "from feast import Client, Entity, Feature, FeatureTable, ValueType\n",
        "from feast.data_format import AvroFormat, ParquetFormat\n",
        "from feast.data_source import FileSource, KafkaSource\n",
        "from google.protobuf.duration_pb2 import Duration\n",
        "from pyarrow.parquet import ParquetDataset"
      ]
    },
    {
      "cell_type": "markdown",
      "metadata": {},
      "source": [
        "## Introduction"
      ]
    },
    {
      "cell_type": "markdown",
      "metadata": {},
      "source": [
        "For this demo, we will:\n",
        "\n",
        "1. Register two driver features, one for driver statistics, the other for driver trips. Driver statistics are updated on daily basis, whereas driver trips are updated in real time.\n",
        "2. Creates a driver dataset, then use Feast SDK to retrieve the features corresponding to these drivers from an offline store.\n",
        "3. Store the features in an online store (Redis), and retrieve the features via Feast SDK."
      ]
    },
    {
      "cell_type": "markdown",
      "metadata": {},
      "source": [
        "## Features Registry (Feast Core)"
      ]
    },
    {
      "cell_type": "markdown",
      "metadata": {},
      "source": [
        "### Configuration"
      ]
    },
    {
      "cell_type": "markdown",
      "metadata": {},
      "source": [
        "Configurations can be provided in three different methods:"
      ]
    },
    {
      "cell_type": "code",
      "execution_count": 2,
      "metadata": {
        "collapsed": true,
        "jupyter": {
          "outputs_hidden": false,
          "source_hidden": false
        },
        "nteract": {
          "transient": {
            "deleting": false
          }
        }
      },
      "outputs": [],
      "source": [
        "# get_historical_features will return immediately once the Spark job has been submitted succesfully.\n",
        "os.environ[\"FEAST_SPARK_LAUNCHER\"] = \"synapse\"\n",
        "os.environ[\"FEAST_SPARK_HOME\"] = \"/usr/local/spark\"\n",
        "\n",
        "os.environ[\"FEAST_azure_synapse_dev_url\"] = \"https://SYNAPSE-DEV-URL.dev.azuresynapse.net\"\n",
        "os.environ[\"FEAST_azure_synapse_pool_name\"] = \"synapsepoolname\"\n",
        "\n",
        "# the datalake dir is the same with this one\n",
        "os.environ[\"FEAST_AZURE_SYNAPSE_DATALAKE_DIR\"] = \"abfss://DEFAULT-SYNAPSE-URL@DEFAULT-SYNAPSE-ADLS-ACCOUNT.dfs.core.windows.net/feast\"\n",
        "os.environ[\"FEAST_HISTORICAL_FEATURE_OUTPUT_LOCATION\"] = \"abfss://DEFAULT-SYNAPSE-URL@DEFAULT-SYNAPSE-ADLS-ACCOUNT.dfs.core.windows.net/feast/out\"\n",
        "os.environ[\"FEAST_SPARK_STAGING_LOCATION\"] = \"wasbs://feasttest@feaststore.blob.core.windows.net/artifacts/\"\n",
        "os.environ[\"FEAST_SPARK_INGESTION_JAR\"] = \"https://feaststore.blob.core.windows.net/feastjar/feast-ingestion-spark-latest.jar\"\n",
        "\n",
        "# Redis Config\n",
        "os.environ[\"FEAST_REDIS_HOST\"] = \"REDIS-HOST-NAME.redis.cache.windows.net\"\n",
        "os.environ[\"FEAST_REDIS_PORT\"] = \"6380\"\n",
        "os.environ[\"FEAST_REDIS_SSL\"] = \"true\"\n",
        "os.environ[\"FEAST_REDIS_AUTH\"] = \"REDIS-KEY\"\n",
        "\n",
        "# EventHub config\n",
        "os.environ[\"FEAST_AZURE_EVENTHUB_KAFKA_CONNECTION_STRING\"] = \"org.apache.kafka.common.security.plain.PlainLoginModule required username=\\\"$ConnectionString\\\" password=\\\"Endpoint=sb://EVENT-HUB-ENDPOINT.servicebus.windows.net/;SharedAccessKeyName=RootManageSharedAccessKey;SharedAccessKey=SHAREDACCESSKEY;EntityPath=driver_trips\\\";\"\n",
        "\n",
        "os.environ[\"FEAST_AZURE_BLOB_ACCOUNT_NAME\"] = \"FEAST-BLOB-STORAGE-ACCOUNT-NAME\"\n",
        "os.environ[\"FEAST_AZURE_BLOB_ACCOUNT_ACCESS_KEY\"] = \"FEAST-BLOB-KEY\"\n",
        "os.environ[\"FEAST_HISTORICAL_FEATURE_OUTPUT_FORMAT\"] = \"parquet\"\n",
        "\n",
        "# If you are using a client app to sign-in. This is optional\n",
        "os.environ['AZURE_CLIENT_ID'] = 'AZURE_CLIENT_ID'\n",
        "os.environ['AZURE_TENANT_ID'] = 'AZURE_TENANT_ID'\n",
        "os.environ['AZURE_CLIENT_SECRET'] = 'AZURE_CLIENT_SECRET'\n",
        "\n",
        "import os\n",
        "from pprint import pprint\n",
        "pprint({key: value for key, value in os.environ.items() if key.startswith(\"FEAST_\")})"
      ]
    },
    {
      "cell_type": "markdown",
      "metadata": {},
      "source": [
        "If you are following the quick start guide, all required configurations to follow the remainder of the tutorial should have been setup, in the form of environmental variables, as showned below. The configuration values may differ depending on the environment. For a full list of configurable values and explanation, please refer to the user guide."
      ]
    },
    {
      "cell_type": "markdown",
      "metadata": {},
      "source": [
        "### Basic Imports and Feast Client initialization"
      ]
    },
    {
      "cell_type": "code",
      "execution_count": 4,
      "metadata": {},
      "outputs": [],
      "source": [
        "import os\n",
        "\n",
        "from feast import Client, Feature, Entity, ValueType, FeatureTable\n",
        "from feast.data_source import FileSource, KafkaSource\n",
        "from feast.data_format import ParquetFormat, AvroFormat"
      ]
    },
    {
      "cell_type": "code",
      "execution_count": 5,
      "metadata": {},
      "outputs": [],
      "source": [
        "client = Client(core_url='CORE-URL:6565', serving_url=\"SERVING-URL:6566\",)\n",
        "client.set_project(\"FEAST-PROJECT-NAME\")"
      ]
    },
    {
      "cell_type": "markdown",
      "metadata": {},
      "source": [
        "### Declare Features and Entities"
      ]
    },
    {
      "cell_type": "markdown",
      "metadata": {},
      "source": [
        "Entity defines the primary key(s) associated with one or more feature tables. The entity must be registered before declaring the associated feature tables. "
      ]
    },
    {
      "cell_type": "code",
      "execution_count": 6,
      "metadata": {},
      "outputs": [],
      "source": [
        "driver_id = Entity(name=\"driver_id\", description=\"Driver identifier\", value_type=ValueType.INT64)"
      ]
    },
    {
      "cell_type": "code",
      "execution_count": 7,
      "metadata": {},
      "outputs": [],
      "source": [
        "# Daily updated features \n",
        "acc_rate = Feature(\"acc_rate\", ValueType.FLOAT)\n",
        "conv_rate = Feature(\"conv_rate\", ValueType.FLOAT)\n",
        "avg_daily_trips = Feature(\"avg_daily_trips\", ValueType.INT32)\n",
        "\n",
        "# Real-time updated features\n",
        "trips_today = Feature(\"trips_today\", ValueType.INT32)"
      ]
    },
    {
      "cell_type": "markdown",
      "metadata": {},
      "source": [
        "```python\n",
        "FeatureTable(\n",
        "    name = \"driver_statistics\",\n",
        "    entities = [\"driver_id\"],\n",
        "    features = [\n",
        "        acc_rate,\n",
        "        conv_rate,\n",
        "        avg_daily_trips\n",
        "    ]\n",
        "    \n",
        ")\n",
        "```\n",
        "\n",
        "\n",
        "```python\n",
        "FeatureTable(\n",
        "    name = \"driver_trips\",\n",
        "    entities = [\"driver_id\"],\n",
        "    features = [\n",
        "        trips_today\n",
        "    ]\n",
        "    \n",
        ")\n",
        "\n",
        "```"
      ]
    },
    {
      "cell_type": "markdown",
      "metadata": {},
      "source": [
        "![Features Join](https://raw.githubusercontent.com/feast-dev/feast-spark-examples/main/minimal/images/features-join.png)"
      ]
    },
    {
      "cell_type": "markdown",
      "metadata": {},
      "source": [
        "```python\n",
        "FeatureTable(\n",
        "    ...,\n",
        "    batch_source=FileSource(  # Required\n",
        "        file_format=ParquetFormat(),\n",
        "        file_url=\"abfss://feast-demo-data-lake\",\n",
        "        ...\n",
        "    ),\n",
        "    stream_source=KafkaSource(  # Optional\n",
        "        bootstrap_servers=\"...\",\n",
        "        topic=\"driver_trips\",\n",
        "        ...\n",
        "    )\n",
        "```"
      ]
    },
    {
      "cell_type": "markdown",
      "metadata": {},
      "source": [
        "Feature tables group the features together and describe how they can be retrieved. The following examples assume that the feature tables are stored on the local file system, and is accessible from the Spark cluster. If you have setup a GCP service account, you may use GCS instead as the file source."
      ]
    },
    {
      "cell_type": "markdown",
      "metadata": {},
      "source": [
        "`batch_source` defines where the historical features are stored. It is also possible to have an optional `stream_source`, which the feature values are delivered continuously.\n",
        "\n",
        "For now we will define only `batch_source` for both `driver_statistics` and `driver_trips`, and demonstrate the usage of `stream_source` in later part of the tutorial."
      ]
    },
    {
      "cell_type": "code",
      "execution_count": 8,
      "metadata": {},
      "outputs": [],
      "source": [
        "# This is the location we're using for the offline feature store.\n",
        "\n",
        "import os\n",
        "demo_data_location = \"wasbs://feasttest@feaststore.blob.core.windows.net/\"\n"
      ]
    },
    {
      "cell_type": "code",
      "execution_count": null,
      "metadata": {},
      "outputs": [
        {
          "ename": "",
          "evalue": "",
          "output_type": "error",
          "traceback": [
            "\u001b[1;31mUnable to start Kernel 'azure_38_test (Python 3.8.12)' due to connection timeout. \n",
            "View Jupyter <a href='command:jupyter.viewOutput'>log</a> for further details."
          ]
        }
      ],
      "source": [
        "driver_statistics_source_uri = os.path.join(demo_data_location, \"driver_statistics\")\n",
        "\n",
        "driver_statistics = FeatureTable(\n",
        "    name = \"driver_statistics\",\n",
        "    entities = [\"driver_id\"],\n",
        "    features = [\n",
        "        acc_rate,\n",
        "        conv_rate,\n",
        "        avg_daily_trips\n",
        "    ],\n",
        "    # You might want to change this interval to see how your feature get joined, because Feast joins your feature based on this\n",
        "    '''\n",
        "    Feast joins the features to the entities based on the following conditions:\n",
        "\n",
        "    1. Entity primary key(s) value matches.\n",
        "    2. Feature event timestamp is the closest match possible to the entity event timestamp,\n",
        "    but must not be more recent than the entity event timestamp, and the difference must\n",
        "    not be greater than the maximum age specified in the feature table, unless the maximum age is not specified.\n",
        "    3. If more than one feature table rows satisfy condition 1 and 2, feature row with the\n",
        "    most recent created timestamp will be chosen.\n",
        "    4. If none of the above conditions are satisfied, the feature rows will have null values.\n",
        "    '''\n",
        "    max_age=Duration(seconds=3600*24*365),\n",
        "    batch_source=FileSource(\n",
        "        event_timestamp_column=\"datetime\",\n",
        "        created_timestamp_column=\"created\",\n",
        "        file_format=ParquetFormat(),\n",
        "        file_url=driver_statistics_source_uri,\n",
        "        date_partition_column=\"date\"\n",
        "    )\n",
        ")"
      ]
    },
    {
      "cell_type": "code",
      "execution_count": null,
      "metadata": {},
      "outputs": [],
      "source": [
        "driver_trips_source_uri = os.path.join(demo_data_location, \"driver_trips\")\n",
        "\n",
        "\n",
        "driver_trips = FeatureTable(\n",
        "    name = \"driver_trips\",\n",
        "    entities = [\"driver_id\"],\n",
        "    features = [\n",
        "        trips_today\n",
        "    ],\n",
        "    max_age=Duration(seconds=86400 * 1),\n",
        "    batch_source=FileSource(\n",
        "        event_timestamp_column=\"datetime\",\n",
        "        created_timestamp_column=\"created\",\n",
        "        file_format=ParquetFormat(),\n",
        "        file_url=driver_trips_source_uri,\n",
        "        date_partition_column=\"date\"\n",
        "    )\n",
        ")"
      ]
    },
    {
      "cell_type": "markdown",
      "metadata": {},
      "source": [
        "### Registering entities and feature tables in Feast Core"
      ]
    },
    {
      "cell_type": "code",
      "execution_count": 11,
      "metadata": {},
      "outputs": [],
      "source": [
        "client.apply(driver_id)\n",
        "client.apply(driver_statistics)\n",
        "client.apply(driver_trips)"
      ]
    },
    {
      "cell_type": "code",
      "execution_count": 12,
      "metadata": {},
      "outputs": [
        {
          "name": "stdout",
          "output_type": "stream",
          "text": [
            "spec:\n",
            "  name: driver_statistics\n",
            "  entities:\n",
            "  - driver_id\n",
            "  features:\n",
            "  - name: avg_daily_trips\n",
            "    valueType: INT32\n",
            "  - name: conv_rate\n",
            "    valueType: FLOAT\n",
            "  - name: acc_rate\n",
            "    valueType: FLOAT\n",
            "  maxAge: 86400s\n",
            "  batchSource:\n",
            "    type: BATCH_FILE\n",
            "    eventTimestampColumn: datetime\n",
            "    datePartitionColumn: date\n",
            "    createdTimestampColumn: created\n",
            "    fileOptions:\n",
            "      fileFormat:\n",
            "        parquetFormat: {}\n",
            "      fileUrl: wasbs://feasttest@feaststore.blob.core.windows.net/driver_statistics\n",
            "meta:\n",
            "  createdTimestamp: '2021-10-22T20:10:52Z'\n",
            "\n",
            "spec:\n",
            "  name: driver_trips\n",
            "  entities:\n",
            "  - driver_id\n",
            "  features:\n",
            "  - name: trips_today\n",
            "    valueType: INT32\n",
            "  maxAge: 86400s\n",
            "  batchSource:\n",
            "    type: BATCH_FILE\n",
            "    eventTimestampColumn: datetime\n",
            "    datePartitionColumn: date\n",
            "    createdTimestampColumn: created\n",
            "    fileOptions:\n",
            "      fileFormat:\n",
            "        parquetFormat: {}\n",
            "      fileUrl: wasbs://feasttest@feaststore.blob.core.windows.net/driver_trips\n",
            "meta:\n",
            "  createdTimestamp: '2021-10-22T20:10:53Z'\n",
            "\n"
          ]
        }
      ],
      "source": [
        "print(client.get_feature_table(\"driver_statistics\").to_yaml())\n",
        "print(client.get_feature_table(\"driver_trips\").to_yaml())"
      ]
    },
    {
      "cell_type": "markdown",
      "metadata": {},
      "source": [
        "### Populating batch source"
      ]
    },
    {
      "cell_type": "markdown",
      "metadata": {},
      "source": [
        "Feast is agnostic to how the batch source is populated, as long as it complies to the Feature Table specification. Therefore, any existing ETL tools can be used for the purpose of data ingestion. Alternatively, you can also use Feast SDK to ingest a Panda Dataframe to the batch source."
      ]
    },
    {
      "cell_type": "code",
      "execution_count": 13,
      "metadata": {},
      "outputs": [],
      "source": [
        "import pandas as pd\n",
        "import numpy as np\n",
        "from datetime import datetime"
      ]
    },
    {
      "cell_type": "code",
      "execution_count": 14,
      "metadata": {},
      "outputs": [],
      "source": [
        "def generate_entities():\n",
        "    return np.random.choice(999999, size=100, replace=False)"
      ]
    },
    {
      "cell_type": "code",
      "execution_count": 15,
      "metadata": {},
      "outputs": [
        {
          "name": "stdout",
          "output_type": "stream",
          "text": [
            "\n"
          ]
        }
      ],
      "source": [
        "from datetime import datetime,date,timedelta\n",
        "print()\n",
        "\n",
        "def generate_trips(entities):\n",
        "    df = pd.DataFrame(columns=[\"driver_id\", \"trips_today\", \"datetime\", \"created\"])\n",
        "    df['driver_id'] = entities\n",
        "    df['trips_today'] = np.random.randint(0, 1000, size=100).astype(np.int32)\n",
        "    df['datetime'] = pd.to_datetime(\n",
        "            np.random.randint(\n",
        "                datetime(2021, 10, 10).timestamp(),\n",
        "                datetime(2022, 10, 30).timestamp(),\n",
        "                size=100),\n",
        "        unit=\"s\"\n",
        "    )\n",
        "    df['created'] = pd.to_datetime(datetime.now())\n",
        "    return df"
      ]
    },
    {
      "cell_type": "code",
      "execution_count": 16,
      "metadata": {},
      "outputs": [],
      "source": [
        "def generate_stats(entities):\n",
        "    df = pd.DataFrame(columns=[\"driver_id\", \"conv_rate\", \"acc_rate\", \"avg_daily_trips\", \"datetime\", \"created\"])\n",
        "    df['driver_id'] = entities\n",
        "    df['conv_rate'] = np.random.random(size=100).astype(np.float32)\n",
        "    df['acc_rate'] = np.random.random(size=100).astype(np.float32)\n",
        "    df['avg_daily_trips'] = np.random.randint(0, 1000, size=100).astype(np.int32)\n",
        "    df['datetime'] = pd.to_datetime(\n",
        "            np.random.randint(\n",
        "                datetime(2021, 10, 10).timestamp(),\n",
        "                datetime(2022, 10, 30).timestamp(),\n",
        "                size=100),\n",
        "        unit=\"s\"\n",
        "    )\n",
        "    df['created'] = pd.to_datetime(datetime.now())\n",
        "    return df"
      ]
    },
    {
      "cell_type": "code",
      "execution_count": 17,
      "metadata": {},
      "outputs": [],
      "source": [
        "entities = generate_entities()\n",
        "stats_df = generate_stats(entities)\n",
        "trips_df = generate_trips(entities)"
      ]
    },
    {
      "cell_type": "code",
      "execution_count": 18,
      "metadata": {},
      "outputs": [
        {
          "name": "stdout",
          "output_type": "stream",
          "text": [
            "Removing temporary file(s)...\n",
            "Data has been successfully ingested into FeatureTable batch source.\n",
            "Removing temporary file(s)...\n",
            "Data has been successfully ingested into FeatureTable batch source.\n"
          ]
        }
      ],
      "source": [
        "client.ingest(driver_statistics, stats_df)\n",
        "client.ingest(driver_trips, trips_df)"
      ]
    },
    {
      "cell_type": "markdown",
      "metadata": {},
      "source": [
        "## Historical Retrieval For Training"
      ]
    },
    {
      "cell_type": "markdown",
      "metadata": {},
      "source": [
        "### Point-in-time correction"
      ]
    },
    {
      "cell_type": "markdown",
      "metadata": {},
      "source": [
        "![Point In Time](https://raw.githubusercontent.com/feast-dev/feast-spark-examples/main/minimal/images/pit-1.png)"
      ]
    },
    {
      "cell_type": "markdown",
      "metadata": {},
      "source": [
        "Feast joins the features to the entities based on the following conditions:\n",
        "\n",
        "1. Entity primary key(s) value matches.\n",
        "2. Feature event timestamp is the closest match possible to the entity event timestamp,\n",
        "   but must not be more recent than the entity event timestamp, and the difference must\n",
        "   not be greater than the maximum age specified in the feature table, unless the maximum age is not specified.\n",
        "3. If more than one feature table rows satisfy condition 1 and 2, feature row with the\n",
        "   most recent created timestamp will be chosen.\n",
        "4. If none of the above conditions are satisfied, the feature rows will have null values."
      ]
    },
    {
      "cell_type": "code",
      "execution_count": 19,
      "metadata": {},
      "outputs": [],
      "source": [
        "from pyarrow.parquet import ParquetDataset\n",
        "from urllib.parse import urlparse"
      ]
    },
    {
      "cell_type": "code",
      "execution_count": 20,
      "metadata": {},
      "outputs": [],
      "source": [
        "import glob\n",
        "\n",
        "def read_parquet(uri):\n",
        "    parsed_uri = urlparse(uri)\n",
        "    if parsed_uri.scheme == \"file\":\n",
        "        return pd.read_parquet(parsed_uri.path)\n",
        "    elif parsed_uri.scheme == 'wasbs':\n",
        "        import adlfs\n",
        "        fs = adlfs.AzureBlobFileSystem(\n",
        "            account_name=os.getenv('FEAST_AZURE_BLOB_ACCOUNT_NAME'), account_key=os.getenv('FEAST_AZURE_BLOB_ACCOUNT_ACCESS_KEY')\n",
        "        )\n",
        "        uripath = parsed_uri.username + parsed_uri.path\n",
        "        files = fs.glob(uripath + '/part-*')\n",
        "        ds = ParquetDataset(files, filesystem=fs)\n",
        "        return ds.read().to_pandas()\n",
        "    elif parsed_uri.scheme == 'abfss':\n",
        "        credential = ClientSecretCredential(os.getenv('AZURE_TENANT_ID'), os.getenv('AZURE_CLIENT_ID'), os.getenv('AZURE_CLIENT_SECRET'))\n",
        "        datalake = parsed_uri.netloc.split('@')\n",
        "        \n",
        "        print(parsed_uri.path)\n",
        "        service_client = DataLakeServiceClient(account_url=\"https://\" + datalake[1], credential=credential)\n",
        "        file_system_client = service_client.get_file_system_client(datalake[0])\n",
        "\n",
        "        directory_client = file_system_client.get_directory_client(parsed_uri.path)\n",
        "        ## returns the paths to all the files in the target director in ADLS\n",
        "        adls_paths = [file_path.name.split(\"/\")[-1] for file_path in file_system_client.get_paths(path=parsed_uri.path) if not file_path.is_directory][1:]\n",
        "        ## need to generate list of local paths to write the files to\n",
        "        local_paths = [os.path.join(\"/tmp\",file_name) for file_name in adls_paths]\n",
        "        for idx, file_to_write in enumerate(adls_paths):\n",
        "            try:\n",
        "                local_file = open(local_paths[idx],'wb')\n",
        "                file_client = directory_client.get_file_client(file_to_write)\n",
        "                download = file_client.download_file()\n",
        "                downloaded_bytes = download.readall()\n",
        "                local_file.write(downloaded_bytes)\n",
        "                local_file.close()\n",
        "            except Exception as e:\n",
        "                print(e)\n",
        "        files = glob.glob(os.path.join(\"/tmp\", \"*.parquet\"))\n",
        "        ds = ParquetDataset(files)\n",
        "        return ds.read().to_pandas()\n",
        "    else:\n",
        "        raise ValueError(f\"Unsupported URL scheme {uri}\")"
      ]
    },
    {
      "cell_type": "code",
      "execution_count": 21,
      "metadata": {},
      "outputs": [
        {
          "data": {
            "text/html": [
              "<div>\n",
              "<style scoped>\n",
              "    .dataframe tbody tr th:only-of-type {\n",
              "        vertical-align: middle;\n",
              "    }\n",
              "\n",
              "    .dataframe tbody tr th {\n",
              "        vertical-align: top;\n",
              "    }\n",
              "\n",
              "    .dataframe thead th {\n",
              "        text-align: right;\n",
              "    }\n",
              "</style>\n",
              "<table border=\"1\" class=\"dataframe\">\n",
              "  <thead>\n",
              "    <tr style=\"text-align: right;\">\n",
              "      <th></th>\n",
              "      <th>driver_id</th>\n",
              "      <th>event_timestamp</th>\n",
              "    </tr>\n",
              "  </thead>\n",
              "  <tbody>\n",
              "    <tr>\n",
              "      <th>0</th>\n",
              "      <td>62895</td>\n",
              "      <td>2021-10-21 08:02:52</td>\n",
              "    </tr>\n",
              "    <tr>\n",
              "      <th>1</th>\n",
              "      <td>333440</td>\n",
              "      <td>2021-10-26 04:24:48</td>\n",
              "    </tr>\n",
              "    <tr>\n",
              "      <th>2</th>\n",
              "      <td>848089</td>\n",
              "      <td>2021-10-26 02:16:20</td>\n",
              "    </tr>\n",
              "    <tr>\n",
              "      <th>3</th>\n",
              "      <td>471879</td>\n",
              "      <td>2021-10-24 12:15:02</td>\n",
              "    </tr>\n",
              "    <tr>\n",
              "      <th>4</th>\n",
              "      <td>233981</td>\n",
              "      <td>2021-10-25 09:37:49</td>\n",
              "    </tr>\n",
              "    <tr>\n",
              "      <th>5</th>\n",
              "      <td>908631</td>\n",
              "      <td>2021-10-25 20:54:12</td>\n",
              "    </tr>\n",
              "    <tr>\n",
              "      <th>6</th>\n",
              "      <td>847625</td>\n",
              "      <td>2021-10-23 10:42:38</td>\n",
              "    </tr>\n",
              "    <tr>\n",
              "      <th>7</th>\n",
              "      <td>158956</td>\n",
              "      <td>2021-10-21 06:35:24</td>\n",
              "    </tr>\n",
              "    <tr>\n",
              "      <th>8</th>\n",
              "      <td>176584</td>\n",
              "      <td>2021-10-29 11:51:31</td>\n",
              "    </tr>\n",
              "    <tr>\n",
              "      <th>9</th>\n",
              "      <td>563727</td>\n",
              "      <td>2021-10-25 00:37:51</td>\n",
              "    </tr>\n",
              "  </tbody>\n",
              "</table>\n",
              "</div>"
            ],
            "text/plain": [
              "   driver_id     event_timestamp\n",
              "0      62895 2021-10-21 08:02:52\n",
              "1     333440 2021-10-26 04:24:48\n",
              "2     848089 2021-10-26 02:16:20\n",
              "3     471879 2021-10-24 12:15:02\n",
              "4     233981 2021-10-25 09:37:49\n",
              "5     908631 2021-10-25 20:54:12\n",
              "6     847625 2021-10-23 10:42:38\n",
              "7     158956 2021-10-21 06:35:24\n",
              "8     176584 2021-10-29 11:51:31\n",
              "9     563727 2021-10-25 00:37:51"
            ]
          },
          "execution_count": 21,
          "metadata": {},
          "output_type": "execute_result"
        }
      ],
      "source": [
        "entities_with_timestamp = pd.DataFrame(columns=['driver_id', 'event_timestamp'])\n",
        "entities_with_timestamp['driver_id'] = np.random.choice(entities, 10, replace=False)\n",
        "entities_with_timestamp['event_timestamp'] = pd.to_datetime(np.random.randint(\n",
        "    datetime(2021, 10, 18).timestamp(),\n",
        "    datetime(2022, 10, 30).timestamp(),\n",
        "    size=10), unit='s')\n",
        "entities_with_timestamp"
      ]
    },
    {
      "cell_type": "code",
      "execution_count": 22,
      "metadata": {},
      "outputs": [],
      "source": [
        "job = feast_spark.Client(client).get_historical_features(\n",
        "    feature_refs=[\n",
        "        \"driver_statistics:avg_daily_trips\",\n",
        "        \"driver_statistics:conv_rate\",\n",
        "        \"driver_statistics:acc_rate\",\n",
        "        \"driver_trips:trips_today\"\n",
        "    ], \n",
        "    entity_source=entities_with_timestamp\n",
        ")"
      ]
    },
    {
      "cell_type": "markdown",
      "metadata": {
        "nteract": {
          "transient": {
            "deleting": false
          }
        }
      },
      "source": [
        "![Spark Job](https://feaststore.blob.core.windows.net/feastjar/SparkJobSubmission.PNG)\n"
      ]
    },
    {
      "cell_type": "code",
      "execution_count": 23,
      "metadata": {},
      "outputs": [],
      "source": [
        "# get_output_file_uri will block until the Spark job is completed.\n",
        "output_file_uri = job.get_output_file_uri()"
      ]
    },
    {
      "cell_type": "code",
      "execution_count": 24,
      "metadata": {},
      "outputs": [],
      "source": [
        "read_parquet(output_file_uri)"
      ]
    },
    {
      "cell_type": "markdown",
      "metadata": {},
      "source": [
        "The retrieved result can now be used for model training."
      ]
    },
    {
      "cell_type": "markdown",
      "metadata": {},
      "source": [
        "## Populating Online Storage with Batch Ingestion"
      ]
    },
    {
      "cell_type": "markdown",
      "metadata": {},
      "source": [
        "In order to populate the online storage, we can use Feast SDK to start a Spark batch job which will extract the features from the batch source, then load the features to an online store."
      ]
    },
    {
      "cell_type": "code",
      "execution_count": 25,
      "metadata": {},
      "outputs": [],
      "source": [
        "job = feast_spark.Client(client).start_offline_to_online_ingestion(\n",
        "    driver_statistics,\n",
        "    datetime(2021, 10, 10),\n",
        "    datetime(2022, 10, 30)\n",
        ")"
      ]
    },
    {
      "cell_type": "code",
      "execution_count": 26,
      "metadata": {},
      "outputs": [
        {
          "name": "stdout",
          "output_type": "stream",
          "text": [
            "SparkJobStatus.COMPLETED\n"
          ]
        }
      ],
      "source": [
        "# It will take some time before the Spark Job is completed\n",
        "job._wait_for_complete(300)\n",
        "print(job.get_status())"
      ]
    },
    {
      "cell_type": "markdown",
      "metadata": {},
      "source": [
        "Once the job is completed, the SDK can be used to retrieve the result from the online store."
      ]
    },
    {
      "cell_type": "code",
      "execution_count": 27,
      "metadata": {},
      "outputs": [
        {
          "data": {
            "text/plain": [
              "[{'driver_id': 818442},\n",
              " {'driver_id': 720806},\n",
              " {'driver_id': 497691},\n",
              " {'driver_id': 62895},\n",
              " {'driver_id': 869039},\n",
              " {'driver_id': 211914},\n",
              " {'driver_id': 246306},\n",
              " {'driver_id': 35554},\n",
              " {'driver_id': 452834},\n",
              " {'driver_id': 471879}]"
            ]
          },
          "execution_count": 27,
          "metadata": {},
          "output_type": "execute_result"
        }
      ],
      "source": [
        "entities_sample = np.random.choice(entities, 10, replace=False)\n",
        "entities_sample = [{\"driver_id\": e} for e in entities_sample]\n",
        "entities_sample"
      ]
    },
    {
      "cell_type": "code",
      "execution_count": null,
      "metadata": {},
      "outputs": [],
      "source": [
        "features = client.get_online_features(\n",
        "    feature_refs=[\"driver_statistics:avg_daily_trips\"],\n",
        "    entity_rows=entities_sample).to_dict()\n",
        "features"
      ]
    },
    {
      "cell_type": "code",
      "execution_count": null,
      "metadata": {},
      "outputs": [],
      "source": [
        "#pd.DataFrame(features)"
      ]
    },
    {
      "cell_type": "markdown",
      "metadata": {},
      "source": [
        "The features can now be used as an input to the trained model."
      ]
    },
    {
      "cell_type": "markdown",
      "metadata": {},
      "source": [
        "## Bonus: Ingestion from Streaming Source - EventHub"
      ]
    },
    {
      "cell_type": "markdown",
      "metadata": {},
      "source": [
        "With a streaming source, we can use Feast SDK to launch a Spark streaming job that continuously update the online store. First, we will update `driver_trips` feature table such that a new streaming source is added."
      ]
    },
    {
      "cell_type": "code",
      "execution_count": 19,
      "metadata": {},
      "outputs": [],
      "source": [
        "import json\n",
        "import pytz\n",
        "import io\n",
        "import avro.schema\n",
        "from avro.io import BinaryEncoder, DatumWriter\n",
        "from confluent_kafka import Producer"
      ]
    },
    {
      "cell_type": "code",
      "execution_count": 20,
      "metadata": {},
      "outputs": [],
      "source": [
        "# Change this to any Kafka broker addresses which is accessible by the spark cluster\n",
        "KAFKA_BROKER = \"EVENTHUB-ADDRESS.servicebus.windows.net:9093\""
      ]
    },
    {
      "cell_type": "code",
      "execution_count": 21,
      "metadata": {},
      "outputs": [],
      "source": [
        "avro_schema_json = json.dumps({\n",
        "    \"type\": \"record\",\n",
        "    \"name\": \"DriverTrips\",\n",
        "    \"fields\": [\n",
        "        {\"name\": \"driver_id\", \"type\": \"long\"},\n",
        "        {\"name\": \"trips_today\", \"type\": \"int\"},\n",
        "        {\n",
        "            \"name\": \"datetime\",\n",
        "            \"type\": {\"type\": \"long\", \"logicalType\": \"timestamp-micros\"},\n",
        "        },\n",
        "    ],\n",
        "})"
      ]
    },
    {
      "cell_type": "code",
      "execution_count": 22,
      "metadata": {},
      "outputs": [],
      "source": [
        "kafka_topic = \"driver_trips\"\n",
        "driver_trips.stream_source = KafkaSource(\n",
        "    event_timestamp_column=\"datetime\",\n",
        "    created_timestamp_column=\"datetime\",\n",
        "    bootstrap_servers=KAFKA_BROKER,\n",
        "    topic=kafka_topic,\n",
        "    message_format=AvroFormat(avro_schema_json)\n",
        ")\n",
        "client.apply(driver_trips)"
      ]
    },
    {
      "cell_type": "markdown",
      "metadata": {},
      "source": [
        "Start the streaming job and send avro record to EventHub:"
      ]
    },
    {
      "cell_type": "code",
      "execution_count": 24,
      "metadata": {},
      "outputs": [],
      "source": [
        "extra_jar_list = [\n",
        "\"https://repo1.maven.org/maven2/org/apache/spark/spark-sql-kafka-0-10_2.12/3.0.2/spark-sql-kafka-0-10_2.12-3.0.2.jar\",\n",
        "\"https://repo1.maven.org/maven2/org/apache/kafka/kafka-clients/2.8.0/kafka-clients-2.8.0.jar\",\n",
        "\"https://repo1.maven.org/maven2/org/apache/kafka/kafka_2.12/2.8.0/kafka_2.12-2.8.0.jar\",\n",
        "\"https://repo1.maven.org/maven2/org/apache/spark/spark-token-provider-kafka-0-10_2.12/3.0.2/spark-token-provider-kafka-0-10_2.12-3.0.2.jar\",\n",
        "\n",
        "]\n",
        "job = feast_spark.Client(client).start_stream_to_online_ingestion(\n",
        "    driver_trips,\n",
        "    extra_jars=extra_jar_list\n",
        ")"
      ]
    },
    {
      "cell_type": "code",
      "execution_count": null,
      "metadata": {},
      "outputs": [],
      "source": [
        "def send_avro_record_to_kafka(topic, record):\n",
        "    value_schema = avro.schema.parse(avro_schema_json)\n",
        "    writer = DatumWriter(value_schema)\n",
        "    bytes_writer = io.BytesIO()\n",
        "    encoder = BinaryEncoder(bytes_writer)\n",
        "    writer.write(record, encoder)\n",
        "\n",
        "    conf = {\n",
        "        'bootstrap.servers': 'EVENTHUB-ADDRESS.servicebus.windows.net:9093', #replace\n",
        "        'security.protocol': 'SASL_SSL',\n",
        "        'ssl.ca.location': '/usr/lib/ssl/certs/ca-certificates.crt',\n",
        "        'sasl.mechanism': 'PLAIN',\n",
        "        'sasl.username': '$ConnectionString',\n",
        "        'sasl.password': 'Endpoint=sb://EVENTHUB-ADDRESS.servicebus.windows.net/;SharedAccessKeyName=RootManageSharedAccessKey;SharedAccessKey=z9obEAyVvD36fZIEvvtNlCRBEDjIrsfNfDAbgDyTbDg=;',          #replace\n",
        "        'client.id': 'python-example-producer'\n",
        "    }\n",
        "\n",
        "    \n",
        "    producer = Producer({\n",
        "        **conf\n",
        "    })\n",
        "    producer.produce(topic=topic, value=bytes_writer.getvalue())\n",
        "    producer.flush()"
      ]
    },
    {
      "cell_type": "code",
      "execution_count": null,
      "metadata": {},
      "outputs": [],
      "source": [
        "# Note: depending on the Kafka configuration you may need to create the Kafka topic first, like below:\n",
        "#from confluent_kafka.admin import AdminClient, NewTopic\n",
        "#admin = AdminClient({'bootstrap.servers': KAFKA_BROKER})\n",
        "#new_topic = NewTopic('driver_trips', num_partitions=1, replication_factor=3)\n",
        "#admin.create_topics(new_topic)\n",
        "for record in trips_df.drop(columns=['created']).to_dict('record'):\n",
        "    # print(\"record\", record)\n",
        "    record[\"datetime\"] = (\n",
        "        record[\"datetime\"].to_pydatetime().replace(tzinfo=pytz.utc)\n",
        "    )\n",
        "\n",
        "    # send_avro_record_to_kafka(topic=\"driver_trips\", record=record)\n",
        "    send_avro_record_to_kafka(topic=kafka_topic, record=record)"
      ]
    },
    {
      "cell_type": "markdown",
      "metadata": {},
      "source": [
        "### Retrieving joined features from several feature tables"
      ]
    },
    {
      "cell_type": "code",
      "execution_count": null,
      "metadata": {},
      "outputs": [],
      "source": [
        "entities_sample = np.random.choice(entities, 10, replace=False)\n",
        "entities_sample = [{\"driver_id\": e} for e in entities_sample]\n",
        "entities_sample"
      ]
    },
    {
      "cell_type": "code",
      "execution_count": null,
      "metadata": {},
      "outputs": [],
      "source": [
        "features = client.get_online_features(\n",
        "    feature_refs=[\"driver_statistics:avg_daily_trips\"],\n",
        "    entity_rows=entities_sample).to_dict()"
      ]
    },
    {
      "cell_type": "code",
      "execution_count": null,
      "metadata": {},
      "outputs": [],
      "source": [
        "pd.DataFrame(features)"
      ]
    },
    {
      "cell_type": "code",
      "execution_count": null,
      "metadata": {},
      "outputs": [],
      "source": [
        "# This will stop the streaming job\n",
        "# job.cancel()"
      ]
    }
  ],
  "metadata": {
    "interpreter": {
      "hash": "b160839c2f4de20b0e6804ff4a0ee9921f46e083c26cb781e4e960e7d3b4ac23"
    },
    "kernelspec": {
      "display_name": "Python 3.8.11 64-bit ('py38_feast_demo': conda)",
      "name": "python3"
    },
    "language_info": {
      "codemirror_mode": {
        "name": "ipython",
        "version": 3
      },
      "file_extension": ".py",
      "mimetype": "text/x-python",
      "name": "python",
      "nbconvert_exporter": "python",
      "pygments_lexer": "ipython3",
      "version": "3.8.12"
    },
    "save_output": true,
    "synapse_widget": {
      "state": {},
      "version": "0.1"
    }
  },
  "nbformat": 4,
  "nbformat_minor": 2
}
